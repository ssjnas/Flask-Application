{
 "cells": [
  {
   "cell_type": "code",
   "execution_count": 1,
   "metadata": {},
   "outputs": [],
   "source": [
    "\n",
    "domains_arr = [\n",
    "    {\n",
    "        \"domain_name\": \"Domain_1\",\n",
    "        \"repo_url\": \"https://github.com/repo1\",\n",
    "        \"domain_image\": \"static/images/domain_1.png\"\n",
    "    },{\n",
    "        \"domain_name\": \"Domain_2\",\n",
    "        \"repo_url\": \"https://github.com/repo2\",\n",
    "        \"domain_image\": \"static/images/domain_2.jpg\"\n",
    "    },{\n",
    "        \"domain_name\": \"Domain_3\",\n",
    "        \"repo_url\": \"https://github.com/repo3\",\n",
    "        \"domain_image\": \"static/images/domain_1.png\"\n",
    "    },{\n",
    "        \"domain_name\": \"Domain_4\",\n",
    "        \"repo_url\": \"https://github.com/repo4\",\n",
    "        \"domain_image\": \"static/images/domain_1.png\"\n",
    "    },{\n",
    "        \"domain_name\": \"Domain_5\",\n",
    "        \"repo_url\": \"https://github.com/repo5\",\n",
    "        \"domain_image\": \"static/images/domain_1.png\"\n",
    "    }\n",
    "]"
   ]
  },
  {
   "cell_type": "code",
   "execution_count": 4,
   "metadata": {},
   "outputs": [
    {
     "ename": "IndentationError",
     "evalue": "unindent does not match any outer indentation level (<tokenize>, line 3)",
     "output_type": "error",
     "traceback": [
      "\u001b[0;36m  File \u001b[0;32m<tokenize>:3\u001b[0;36m\u001b[0m\n\u001b[0;31m    result = filter(filter_1, domains_arr)\u001b[0m\n\u001b[0m    ^\u001b[0m\n\u001b[0;31mIndentationError\u001b[0m\u001b[0;31m:\u001b[0m unindent does not match any outer indentation level\n"
     ]
    }
   ],
   "source": [
    "def filter_1(x):\n",
    "        return x['domain_name'] == 'Domain_5'\n",
    "    result = filter(filter_1, domains_arr)\n",
    "result=list(result)"
   ]
  },
  {
   "cell_type": "code",
   "execution_count": 2,
   "metadata": {},
   "outputs": [
    {
     "name": "stdout",
     "output_type": "stream",
     "text": [
      "domain_name: Domain_1\n",
      "repo_url: https://github.com/repo1\n",
      "domain_image: static/images/domain_1.png\n",
      "domain_name: Domain_2\n",
      "repo_url: https://github.com/repo2\n",
      "domain_image: static/images/domain_2.jpg\n",
      "domain_name: Domain_3\n",
      "repo_url: https://github.com/repo3\n",
      "domain_image: static/images/domain_1.png\n",
      "domain_name: Domain_4\n",
      "repo_url: https://github.com/repo4\n",
      "domain_image: static/images/domain_1.png\n",
      "domain_name: Domain_5\n",
      "repo_url: https://github.com/repo5\n",
      "domain_image: static/images/domain_1.png\n"
     ]
    }
   ],
   "source": [
    "for person_dict in domains_arr:\n",
    "    for key, value in person_dict.items():\n",
    "        print(f\"{key}: {value}\")"
   ]
  },
  {
   "cell_type": "code",
   "execution_count": 5,
   "metadata": {},
   "outputs": [],
   "source": [
    "result=[{'domain_name': 'Domain_1', 'repo_url': 'https://github.com/repo1', 'domain_image': '../static/images/domain_1.png'}]"
   ]
  },
  {
   "cell_type": "code",
   "execution_count": 8,
   "metadata": {},
   "outputs": [
    {
     "name": "stdout",
     "output_type": "stream",
     "text": [
      "{'domain_name': 'Domain_1', 'repo_url': 'https://github.com/repo1', 'domain_image': '../static/images/domain_1.png'}\n"
     ]
    }
   ],
   "source": [
    "print(result[0])"
   ]
  }
 ],
 "metadata": {
  "kernelspec": {
   "display_name": "Python 3",
   "language": "python",
   "name": "python3"
  },
  "language_info": {
   "codemirror_mode": {
    "name": "ipython",
    "version": 3
   },
   "file_extension": ".py",
   "mimetype": "text/x-python",
   "name": "python",
   "nbconvert_exporter": "python",
   "pygments_lexer": "ipython3",
   "version": "3.10.12"
  },
  "orig_nbformat": 4
 },
 "nbformat": 4,
 "nbformat_minor": 2
}
